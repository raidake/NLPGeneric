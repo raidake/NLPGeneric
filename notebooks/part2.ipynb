{
  "cells": [
    {
      "cell_type": "code",
      "execution_count": 1,
      "metadata": {
        "colab": {
          "base_uri": "https://localhost:8080/"
        },
        "id": "0Gti3YF3ci7X",
        "outputId": "6b7ec2c2-072a-4335-e2f2-927582cae25d"
      },
      "outputs": [
        {
          "output_type": "stream",
          "name": "stdout",
          "text": [
            "Requirement already satisfied: datasets in /usr/local/lib/python3.10/dist-packages (3.1.0)\n",
            "Requirement already satisfied: gensim in /usr/local/lib/python3.10/dist-packages (4.3.3)\n",
            "Requirement already satisfied: filelock in /usr/local/lib/python3.10/dist-packages (from datasets) (3.16.1)\n",
            "Requirement already satisfied: numpy>=1.17 in /usr/local/lib/python3.10/dist-packages (from datasets) (1.26.4)\n",
            "Requirement already satisfied: pyarrow>=15.0.0 in /usr/local/lib/python3.10/dist-packages (from datasets) (17.0.0)\n",
            "Requirement already satisfied: dill<0.3.9,>=0.3.0 in /usr/local/lib/python3.10/dist-packages (from datasets) (0.3.8)\n",
            "Requirement already satisfied: pandas in /usr/local/lib/python3.10/dist-packages (from datasets) (2.2.2)\n",
            "Requirement already satisfied: requests>=2.32.2 in /usr/local/lib/python3.10/dist-packages (from datasets) (2.32.3)\n",
            "Requirement already satisfied: tqdm>=4.66.3 in /usr/local/lib/python3.10/dist-packages (from datasets) (4.66.6)\n",
            "Requirement already satisfied: xxhash in /usr/local/lib/python3.10/dist-packages (from datasets) (3.5.0)\n",
            "Requirement already satisfied: multiprocess<0.70.17 in /usr/local/lib/python3.10/dist-packages (from datasets) (0.70.16)\n",
            "Requirement already satisfied: fsspec<=2024.9.0,>=2023.1.0 in /usr/local/lib/python3.10/dist-packages (from fsspec[http]<=2024.9.0,>=2023.1.0->datasets) (2024.9.0)\n",
            "Requirement already satisfied: aiohttp in /usr/local/lib/python3.10/dist-packages (from datasets) (3.10.10)\n",
            "Requirement already satisfied: huggingface-hub>=0.23.0 in /usr/local/lib/python3.10/dist-packages (from datasets) (0.24.7)\n",
            "Requirement already satisfied: packaging in /usr/local/lib/python3.10/dist-packages (from datasets) (24.1)\n",
            "Requirement already satisfied: pyyaml>=5.1 in /usr/local/lib/python3.10/dist-packages (from datasets) (6.0.2)\n",
            "Requirement already satisfied: scipy<1.14.0,>=1.7.0 in /usr/local/lib/python3.10/dist-packages (from gensim) (1.13.1)\n",
            "Requirement already satisfied: smart-open>=1.8.1 in /usr/local/lib/python3.10/dist-packages (from gensim) (7.0.5)\n",
            "Requirement already satisfied: aiohappyeyeballs>=2.3.0 in /usr/local/lib/python3.10/dist-packages (from aiohttp->datasets) (2.4.3)\n",
            "Requirement already satisfied: aiosignal>=1.1.2 in /usr/local/lib/python3.10/dist-packages (from aiohttp->datasets) (1.3.1)\n",
            "Requirement already satisfied: attrs>=17.3.0 in /usr/local/lib/python3.10/dist-packages (from aiohttp->datasets) (24.2.0)\n",
            "Requirement already satisfied: frozenlist>=1.1.1 in /usr/local/lib/python3.10/dist-packages (from aiohttp->datasets) (1.5.0)\n",
            "Requirement already satisfied: multidict<7.0,>=4.5 in /usr/local/lib/python3.10/dist-packages (from aiohttp->datasets) (6.1.0)\n",
            "Requirement already satisfied: yarl<2.0,>=1.12.0 in /usr/local/lib/python3.10/dist-packages (from aiohttp->datasets) (1.17.0)\n",
            "Requirement already satisfied: async-timeout<5.0,>=4.0 in /usr/local/lib/python3.10/dist-packages (from aiohttp->datasets) (4.0.3)\n",
            "Requirement already satisfied: typing-extensions>=3.7.4.3 in /usr/local/lib/python3.10/dist-packages (from huggingface-hub>=0.23.0->datasets) (4.12.2)\n",
            "Requirement already satisfied: charset-normalizer<4,>=2 in /usr/local/lib/python3.10/dist-packages (from requests>=2.32.2->datasets) (3.4.0)\n",
            "Requirement already satisfied: idna<4,>=2.5 in /usr/local/lib/python3.10/dist-packages (from requests>=2.32.2->datasets) (3.10)\n",
            "Requirement already satisfied: urllib3<3,>=1.21.1 in /usr/local/lib/python3.10/dist-packages (from requests>=2.32.2->datasets) (2.2.3)\n",
            "Requirement already satisfied: certifi>=2017.4.17 in /usr/local/lib/python3.10/dist-packages (from requests>=2.32.2->datasets) (2024.8.30)\n",
            "Requirement already satisfied: wrapt in /usr/local/lib/python3.10/dist-packages (from smart-open>=1.8.1->gensim) (1.16.0)\n",
            "Requirement already satisfied: python-dateutil>=2.8.2 in /usr/local/lib/python3.10/dist-packages (from pandas->datasets) (2.8.2)\n",
            "Requirement already satisfied: pytz>=2020.1 in /usr/local/lib/python3.10/dist-packages (from pandas->datasets) (2024.2)\n",
            "Requirement already satisfied: tzdata>=2022.7 in /usr/local/lib/python3.10/dist-packages (from pandas->datasets) (2024.2)\n",
            "Requirement already satisfied: six>=1.5 in /usr/local/lib/python3.10/dist-packages (from python-dateutil>=2.8.2->pandas->datasets) (1.16.0)\n",
            "Requirement already satisfied: propcache>=0.2.0 in /usr/local/lib/python3.10/dist-packages (from yarl<2.0,>=1.12.0->aiohttp->datasets) (0.2.0)\n"
          ]
        }
      ],
      "source": [
        "!pip install datasets gensim"
      ]
    },
    {
      "cell_type": "code",
      "execution_count": 2,
      "metadata": {
        "id": "x2ismTBccZwc"
      },
      "outputs": [],
      "source": [
        "from datasets import load_dataset\n",
        "import nltk\n",
        "from nltk.tokenize import word_tokenize\n",
        "from datasets import load_dataset\n",
        "from collections import Counter\n",
        "import gensim.downloader as api\n",
        "import numpy as np\n",
        "import os\n",
        "import json\n",
        "import torch\n",
        "import torch.nn as nn\n",
        "import torch.functional as F\n",
        "import json\n",
        "from tqdm.auto import tqdm\n",
        "import sys\n"
      ]
    },
    {
      "cell_type": "markdown",
      "metadata": {
        "id": "XQqgTFUPcZwf"
      },
      "source": [
        "# Loading dataset and data processing"
      ]
    },
    {
      "cell_type": "code",
      "execution_count": 3,
      "metadata": {
        "colab": {
          "base_uri": "https://localhost:8080/"
        },
        "id": "KEmgZnQ-cZwg",
        "outputId": "8c06b401-3b0e-49ed-d098-2220a4daf2bb"
      },
      "outputs": [
        {
          "output_type": "stream",
          "name": "stderr",
          "text": [
            "/usr/local/lib/python3.10/dist-packages/huggingface_hub/utils/_token.py:89: UserWarning: \n",
            "The secret `HF_TOKEN` does not exist in your Colab secrets.\n",
            "To authenticate with the Hugging Face Hub, create a token in your settings tab (https://huggingface.co/settings/tokens), set it as secret in your Google Colab and restart your session.\n",
            "You will be able to reuse this secret in all of your notebooks.\n",
            "Please note that authentication is recommended but still optional to access public models or datasets.\n",
            "  warnings.warn(\n"
          ]
        }
      ],
      "source": [
        "dataset = load_dataset(\"rotten_tomatoes\")\n",
        "train_dataset = dataset['train']\n",
        "validation_dataset = dataset['validation']\n",
        "test_dataset = dataset['test']"
      ]
    },
    {
      "cell_type": "code",
      "execution_count": 4,
      "metadata": {
        "id": "EcJqLJVMcZwh"
      },
      "outputs": [],
      "source": [
        "word2vec_model = api.load('glove-wiki-gigaword-100')\n",
        "embeddings = word2vec_model.vectors\n",
        "w2v_vocab = word2vec_model.key_to_index"
      ]
    },
    {
      "cell_type": "code",
      "execution_count": 5,
      "metadata": {
        "colab": {
          "base_uri": "https://localhost:8080/"
        },
        "id": "DJ-0LDiqjTRc",
        "outputId": "a852317e-6a67-4413-dfd3-656889ce7077"
      },
      "outputs": [
        {
          "output_type": "execute_result",
          "data": {
            "text/plain": [
              "400000"
            ]
          },
          "metadata": {},
          "execution_count": 5
        }
      ],
      "source": [
        "len(w2v_vocab)"
      ]
    },
    {
      "cell_type": "code",
      "execution_count": 6,
      "metadata": {
        "id": "ekcP8LDxmET8"
      },
      "outputs": [],
      "source": [
        "w2v_vocab['<UNK>'] = 400000\n",
        "w2v_vocab['<PAD>'] = 400001"
      ]
    },
    {
      "cell_type": "code",
      "execution_count": 7,
      "metadata": {
        "id": "SKtQBf38kAJm"
      },
      "outputs": [],
      "source": [
        "avg_vec = np.mean(embeddings, axis=0)"
      ]
    },
    {
      "cell_type": "code",
      "execution_count": 8,
      "metadata": {
        "colab": {
          "base_uri": "https://localhost:8080/"
        },
        "id": "NmlVonEWk_ru",
        "outputId": "9bbc5652-d2a6-4240-fc27-84934405154f"
      },
      "outputs": [
        {
          "output_type": "execute_result",
          "data": {
            "text/plain": [
              "array([ 0.05209883, -0.09711445, -0.1380765 ,  0.11075345, -0.02722748,\n",
              "       -0.00326409,  0.03176443, -0.05076874,  0.15321693, -0.02367382,\n",
              "       -0.0078552 ,  0.08436131, -0.08042031, -0.08836847, -0.01713637,\n",
              "        0.07352565, -0.16472325,  0.05473585,  0.15367231, -0.05284015,\n",
              "       -0.16474274, -0.00894895, -0.13604094, -0.03889371, -0.09204532,\n",
              "        0.02874651,  0.02445944,  0.19419461, -0.03297978,  0.00509352,\n",
              "        0.0146906 , -0.1554301 ,  0.03542742, -0.02936257,  0.01372886,\n",
              "       -0.0606757 ,  0.02025392, -0.14560148,  0.05823914,  0.01729455,\n",
              "        0.16282158,  0.18634756, -0.06337869,  0.1306742 , -0.11122588,\n",
              "        0.0272168 ,  0.03868013,  0.15675613,  0.01344932,  0.1942456 ,\n",
              "       -0.01218801,  0.03659216, -0.08235365, -0.24420363,  0.07523726,\n",
              "        0.46423653,  0.06318451,  0.0508127 , -0.38147202, -0.20739552,\n",
              "        0.03489431, -0.18234783,  0.09021272, -0.02504168, -0.22256528,\n",
              "        0.03382994, -0.13379364, -0.14375682, -0.11264054, -0.03744001,\n",
              "        0.06188852,  0.09650661,  0.08384212,  0.1964642 , -0.07446123,\n",
              "        0.00921882,  0.03034359, -0.02482695,  0.27563572,  0.02422197,\n",
              "       -0.23416583, -0.0523523 ,  0.10200828, -0.03673672,  0.2940292 ,\n",
              "        0.05685116,  0.01759575,  0.07998175, -0.07554322,  0.14788596,\n",
              "        0.01690632,  0.07576851,  0.07596124, -0.10800065,  0.20829839,\n",
              "       -0.07841395,  0.08663727,  0.12381283, -0.23434106, -0.00925518],\n",
              "      dtype=float32)"
            ]
          },
          "metadata": {},
          "execution_count": 8
        }
      ],
      "source": [
        "avg_vec"
      ]
    },
    {
      "cell_type": "code",
      "execution_count": 9,
      "metadata": {
        "colab": {
          "base_uri": "https://localhost:8080/"
        },
        "id": "e9DiRBlFlSoz",
        "outputId": "80e1b1c0-27d1-40f2-98bf-1c87125041fc"
      },
      "outputs": [
        {
          "output_type": "execute_result",
          "data": {
            "text/plain": [
              "array([ 0.28365  , -0.6263   , -0.44351  ,  0.2177   , -0.087421 ,\n",
              "       -0.17062  ,  0.29266  , -0.024899 ,  0.26414  , -0.17023  ,\n",
              "        0.25817  ,  0.097484 , -0.33103  , -0.43859  ,  0.0095799,\n",
              "        0.095624 , -0.17777  ,  0.38886  ,  0.27151  ,  0.14742  ,\n",
              "       -0.43973  , -0.26588  , -0.024271 ,  0.27186  , -0.36761  ,\n",
              "       -0.24827  , -0.20815  ,  0.22128  , -0.044409 ,  0.021373 ,\n",
              "        0.24594  ,  0.26143  ,  0.29303  ,  0.13281  ,  0.082232 ,\n",
              "       -0.12869  ,  0.1622   , -0.22567  , -0.060348 ,  0.28703  ,\n",
              "        0.11381  ,  0.34839  ,  0.3419   ,  0.36996  , -0.13592  ,\n",
              "        0.0062694,  0.080317 ,  0.0036251,  0.43093  ,  0.01882  ,\n",
              "        0.31008  ,  0.16722  ,  0.074112 , -0.37745  ,  0.47363  ,\n",
              "        0.41284  ,  0.24471  ,  0.075965 , -0.51725  , -0.49481  ,\n",
              "        0.526    , -0.074645 ,  0.41434  , -0.1956   , -0.16544  ,\n",
              "       -0.045649 , -0.40153  , -0.13136  , -0.4672   ,  0.18825  ,\n",
              "        0.2612   ,  0.16854  ,  0.22615  ,  0.62992  , -0.1288   ,\n",
              "        0.055841 ,  0.01928  ,  0.024572 ,  0.46875  ,  0.2582   ,\n",
              "       -0.31672  ,  0.048591 ,  0.3277   , -0.50141  ,  0.30855  ,\n",
              "        0.11997  , -0.25768  , -0.039867 , -0.059672 ,  0.5525   ,\n",
              "        0.13885  , -0.22862  ,  0.071792 , -0.43208  ,  0.5398   ,\n",
              "       -0.085806 ,  0.032651 ,  0.43678  , -0.82607  , -0.15701  ],\n",
              "      dtype=float32)"
            ]
          },
          "metadata": {},
          "execution_count": 9
        }
      ],
      "source": [
        "embeddings[-1]"
      ]
    },
    {
      "cell_type": "code",
      "execution_count": 10,
      "metadata": {
        "id": "AAyfFxeKkZ7g"
      },
      "outputs": [],
      "source": [
        "embeddings = np.append(embeddings, [np.zeros_like(embeddings[-1])], axis=0)\n",
        "embeddings = np.append(embeddings, [np.zeros_like(embeddings[-1])], axis=0)"
      ]
    },
    {
      "cell_type": "markdown",
      "metadata": {
        "id": "_bz4SR5icZwh"
      },
      "source": [
        "## Tokenizing"
      ]
    },
    {
      "cell_type": "markdown",
      "metadata": {
        "id": "AoiF65t0cZwi"
      },
      "source": [
        "1. We ignore the words\n",
        "2. We map them to `UNK`, available in word2vec vocab"
      ]
    },
    {
      "cell_type": "code",
      "execution_count": 11,
      "metadata": {
        "id": "_xMdb79pcZwi"
      },
      "outputs": [],
      "source": [
        "def tokenize(vocab, text):\n",
        "    \"\"\"Tokenize a given text using NLTK, returning the corresponding in our pretrained embeddings\"\"\"\n",
        "    tokens = word_tokenize(text.lower())  # Tokenize the text into words\n",
        "    token_ids = [vocab.get(token, vocab[\"<UNK>\"]) for token in tokens]  # Get token IDs\n",
        "    return {\"tokens\": tokens, \"ids\": token_ids}"
      ]
    },
    {
      "cell_type": "code",
      "execution_count": 12,
      "metadata": {
        "colab": {
          "base_uri": "https://localhost:8080/"
        },
        "id": "Tutdls6wcZwj",
        "outputId": "361e963c-10e3-4817-cd47-1454cecc8eb9"
      },
      "outputs": [
        {
          "output_type": "stream",
          "name": "stderr",
          "text": [
            "[nltk_data] Downloading package punkt to /root/nltk_data...\n",
            "[nltk_data]   Package punkt is already up-to-date!\n"
          ]
        }
      ],
      "source": [
        "nltk.download('punkt')\n",
        "\n",
        "class NLTKTokenizer:\n",
        "    def __init__(self, config=None):\n",
        "        self.vocab = {'<UNK>': 400000, '<PAD>': 400001}\n",
        "        self.config = config or {}\n",
        "        self.pad_id = None  # Store pad_id for future use\n",
        "\n",
        "    @classmethod\n",
        "    def from_pretrained(cls, vocab):\n",
        "        \"\"\"Load a tokenizer with a pre-built vocabulary from a saved file.\"\"\"\n",
        "        tokenizer = cls()\n",
        "        tokenizer.vocab = vocab\n",
        "        tokenizer.pad_id = vocab.get(\"<PAD>\", 1)  # Ensure pad_id is set\n",
        "        return tokenizer\n",
        "\n",
        "    def build_vocab(self):\n",
        "        \"\"\"Build vocabulary from the given dataset.\"\"\"\n",
        "        from collections import Counter\n",
        "        from datasets import load_dataset\n",
        "\n",
        "        dataset = load_dataset(self.config[\"dataset\"])\n",
        "        train_dataset = dataset['train']\n",
        "        vocab = Counter(self.vocab)\n",
        "        for item in train_dataset:\n",
        "            tokens = word_tokenize(item['text'].lower())\n",
        "            vocab.update(tokens)\n",
        "        self.vocab = {word: idx for idx, (word, _) in enumerate(vocab.items(), 1)}  # Index starts at 1\n",
        "        #print(self.vocab)\n",
        "\n",
        "    def tokenize(self, text):\n",
        "        \"\"\"Tokenize a given text using NLTK.\"\"\"\n",
        "        tokens = word_tokenize(text.lower())  # Tokenize the text into words\n",
        "        token_ids = [self.vocab.get(token, self.vocab[\"<UNK>\"]) for token in tokens]  # Get token IDs\n",
        "        # token_ids = [self.vocab.get(token, np.zeros_like(self.vocab['UNK'])) for token in tokens]  # Get token IDs\n",
        "\n",
        "        return {\"tokens\": tokens, \"ids\": token_ids}\n",
        "\n",
        "    def save(self, folder_path):\n",
        "        \"\"\"Save the vocabulary to a file.\"\"\"\n",
        "        os.makedirs(folder_path, exist_ok=True)\n",
        "        with open(os.path.join(folder_path, \"vocab.json\"), \"w\") as f:\n",
        "            json.dump(self.vocab, f)"
      ]
    },
    {
      "cell_type": "code",
      "execution_count": 13,
      "metadata": {
        "id": "oun7mYjIcZwj"
      },
      "outputs": [],
      "source": [
        "tokenizer = NLTKTokenizer.from_pretrained(w2v_vocab)"
      ]
    },
    {
      "cell_type": "markdown",
      "metadata": {
        "id": "OKLlFFLPcZwl"
      },
      "source": [
        "## Dataloader"
      ]
    },
    {
      "cell_type": "code",
      "execution_count": 14,
      "metadata": {
        "id": "6LHWPGzycZwl"
      },
      "outputs": [],
      "source": [
        "from torch.utils.data import DataLoader, Dataset\n",
        "from torch.nn.utils.rnn import pad_sequence"
      ]
    },
    {
      "cell_type": "code",
      "execution_count": 15,
      "metadata": {
        "id": "6qytK3b4cZwl"
      },
      "outputs": [],
      "source": [
        "class ClassificationDataset(Dataset):\n",
        "    def __init__(self, dataset, tokenizer):\n",
        "        self.dataset = dataset\n",
        "        self.tokenizer = tokenizer\n",
        "\n",
        "    def __len__(self):\n",
        "        return len(self.dataset)\n",
        "\n",
        "    def __getitem__(self, idx):\n",
        "        item = self.dataset[idx]\n",
        "        text = item[\"text\"]\n",
        "        label = item[\"label\"]\n",
        "        ids = self.tokenizer.tokenize(text)[\"ids\"]\n",
        "        length = len(ids)\n",
        "        ids = torch.tensor(ids)\n",
        "        return ids, length, label"
      ]
    },
    {
      "cell_type": "code",
      "execution_count": 16,
      "metadata": {
        "id": "JMWgOFoYcZwl"
      },
      "outputs": [],
      "source": [
        "def get_dataloaders(\n",
        "    tokenizer,\n",
        "    dataset,\n",
        "    training_bs,\n",
        "    val_bs,\n",
        "):\n",
        "    train_dataset = ClassificationDataset(dataset[\"train\"], tokenizer)\n",
        "    validation_dataset = ClassificationDataset(dataset[\"validation\"], tokenizer)\n",
        "    test_dataset = ClassificationDataset(dataset[\"test\"], tokenizer)\n",
        "    # partial function to be used in DataLoader\n",
        "    def padding_fn(batch):\n",
        "        # pad sequences in the same batch to be the same shape\n",
        "        (xx, lengths, yy) = zip(*batch)\n",
        "        xx_pad = pad_sequence(xx, batch_first=True, padding_value=tokenizer.pad_id)\n",
        "        return xx_pad, torch.tensor(lengths), torch.tensor(yy)\n",
        "    train_loader = DataLoader(train_dataset, batch_size=training_bs, shuffle=True, collate_fn=padding_fn)\n",
        "    val_loader   = DataLoader(validation_dataset, batch_size=val_bs, shuffle=True, collate_fn=padding_fn)\n",
        "    test_loader  = DataLoader(test_dataset, batch_size=val_bs, shuffle=True, collate_fn=padding_fn)\n",
        "\n",
        "    return train_loader, val_loader, test_loader"
      ]
    },
    {
      "cell_type": "code",
      "execution_count": 17,
      "metadata": {
        "id": "rOXQ9Z-rcZwm"
      },
      "outputs": [],
      "source": [
        "train_loader, val_loader, test_loader = get_dataloaders(\n",
        "    tokenizer=tokenizer,\n",
        "    dataset=dataset,\n",
        "    training_bs=32,\n",
        "    val_bs=32,\n",
        ")"
      ]
    },
    {
      "cell_type": "markdown",
      "metadata": {
        "id": "NqBwzKdycZwm"
      },
      "source": [
        "# Initializing the model"
      ]
    },
    {
      "cell_type": "code",
      "execution_count": 18,
      "metadata": {
        "id": "hhfPOZXGoo_w"
      },
      "outputs": [],
      "source": [
        "# device = torch.device(\"cuda\" if torch.cuda.is_available() else \"cpu\")\n",
        "device = 'cpu'"
      ]
    },
    {
      "cell_type": "code",
      "execution_count": 19,
      "metadata": {
        "id": "Jf7mbQ91cZwm"
      },
      "outputs": [],
      "source": [
        "class RNNLayer(nn.Module):\n",
        "    def __init__(self, dim_input, dim_hidden, direction=1):\n",
        "        super(RNNLayer, self).__init__()\n",
        "        self.dim_input = dim_input\n",
        "        self.dim_hidden = dim_hidden\n",
        "\n",
        "        self.i2h = nn.Linear(dim_input + dim_hidden, dim_hidden)\n",
        "        self.i2o = nn.Linear(dim_input + dim_hidden, dim_hidden)\n",
        "        self.direction = direction\n",
        "\n",
        "    def forward(self, input, hidden):\n",
        "        outputs = []\n",
        "        if self.direction == 1:\n",
        "            for i in range(input.size()[1]):\n",
        "                combined = torch.cat((input[:, i, :], hidden), dim=1)\n",
        "                hidden = self.i2h(combined)\n",
        "                output_cell = self.i2o(combined)\n",
        "                outputs.append(output_cell)\n",
        "        else:\n",
        "            for i in range(input.size()[1]-1, -1, -1):\n",
        "                combined = torch.cat((input[:, i, :], hidden), dim=1)\n",
        "                hidden = self.i2h(combined)\n",
        "                output_cell = self.i2o(combined)\n",
        "                outputs.append(output_cell)\n",
        "        return torch.stack(outputs, dim=1) # (batch_size, seq_len, dim_hidden)\n",
        "\n",
        "    def init_hidden(self, batch_size):\n",
        "        return torch.zeros(batch_size, self.dim_hidden)\n",
        "\n",
        "class DeepRNN(nn.Module):\n",
        "    def __init__(self, dim_input, dim_hidden, num_layers, direction=1):\n",
        "        super(DeepRNN, self).__init__()\n",
        "        self.dim_input = dim_input\n",
        "        self.dim_hidden = dim_hidden\n",
        "        self.num_layers = num_layers\n",
        "        self.direction = direction\n",
        "\n",
        "        self.input_layer = RNNLayer(dim_input, dim_hidden, direction=direction)\n",
        "        self.rnn_layers = nn.ModuleList([RNNLayer(dim_hidden, dim_hidden, direction=direction) for _ in range(num_layers)])\n",
        "\n",
        "    def forward(self, input):\n",
        "        hidden = self.input_layer.init_hidden(input.size()[0])\n",
        "        outputs = self.input_layer(input, hidden)\n",
        "        for i in range(self.num_layers):\n",
        "            hidden = self.rnn_layers[i].init_hidden(input.size()[0])\n",
        "            outputs = self.rnn_layers[i](outputs, hidden)\n",
        "        return outputs\n",
        "\n",
        "    def init_hidden(self, batch_size):\n",
        "        return torch.zeros(batch_size, self.dim_hidden)\n",
        "\n",
        "class BiDeepRNN(nn.Module):\n",
        "    def __init__(self, vocab_size, dim_input, dim_hidden, dim_output, num_layers, pretrained_embeddings=None, freeze_embeddings=False):\n",
        "\n",
        "        super(BiDeepRNN, self).__init__()\n",
        "\n",
        "        if pretrained_embeddings is not None:\n",
        "                print(\"Loading pretrained word embeddings\")\n",
        "                self.token_embedding = nn.Embedding.from_pretrained(\n",
        "                    torch.tensor(pretrained_embeddings, dtype=torch.float),\n",
        "                    freeze=freeze_embeddings\n",
        "                )\n",
        "        else:\n",
        "            self.token_embedding = nn.Embedding(vocab_size, dim_input)\n",
        "        self.dim_input = dim_input\n",
        "        self.dim_hidden = dim_hidden\n",
        "        self.dim_output = dim_output\n",
        "        self.num_layers = num_layers\n",
        "\n",
        "        self.rnn_layers_forward = DeepRNN(dim_input, dim_hidden, num_layers, direction=1)\n",
        "        self.rnn_layers_backward = DeepRNN(dim_input, dim_hidden, num_layers, direction=-1)\n",
        "        self.output_layer = nn.Linear(2*dim_hidden, dim_output)\n",
        "        self.softmax = nn.Softmax(dim=-1)\n",
        "\n",
        "    def forward(self, input):\n",
        "        # Since we are dealing with Char-RNN task so we dont need to use all the output\n",
        "        embeddings = self.token_embedding(input)\n",
        "\n",
        "        fs = self.rnn_layers_forward(embeddings)\n",
        "        bs = self.rnn_layers_backward(embeddings)\n",
        "        outputs = torch.cat((fs, torch.flip(bs, dims=(1,))), dim=-1)\n",
        "        # outputs : (batch_size, seq_len, 2*dim_hidden)\n",
        "        outputs = self.output_layer(outputs)\n",
        "        outputs = self.softmax(outputs)\n",
        "        return outputs"
      ]
    },
    {
      "cell_type": "code",
      "execution_count": 20,
      "metadata": {
        "colab": {
          "base_uri": "https://localhost:8080/"
        },
        "id": "OnJ0WS4vcZwn",
        "outputId": "b2c09548-9d9c-43cf-db71-4a54294d793f"
      },
      "outputs": [
        {
          "output_type": "execute_result",
          "data": {
            "text/plain": [
              "400002"
            ]
          },
          "metadata": {},
          "execution_count": 20
        }
      ],
      "source": [
        "len(w2v_vocab)"
      ]
    },
    {
      "cell_type": "code",
      "execution_count": 21,
      "metadata": {
        "id": "c-pqk6Q0cZwn"
      },
      "outputs": [],
      "source": [
        "vocab_size=len(w2v_vocab)\n",
        "dim_input = embeddings[0].shape[0]\n",
        "dim_hidden = 256"
      ]
    },
    {
      "cell_type": "code",
      "execution_count": 22,
      "metadata": {
        "colab": {
          "base_uri": "https://localhost:8080/"
        },
        "id": "7PT9u81jjHed",
        "outputId": "a487db44-444f-4109-a37d-41d3f50c1245"
      },
      "outputs": [
        {
          "output_type": "execute_result",
          "data": {
            "text/plain": [
              "100"
            ]
          },
          "metadata": {},
          "execution_count": 22
        }
      ],
      "source": [
        "dim_input"
      ]
    },
    {
      "cell_type": "markdown",
      "metadata": {
        "id": "cfsu4HEXcZwn"
      },
      "source": [
        "# Training loop"
      ]
    },
    {
      "cell_type": "markdown",
      "metadata": {
        "id": "ziaOrO1bcZwo"
      },
      "source": [
        "Use the pretrained word embeddings from Part 1 as inputs; do not update them during training (they are “frozen”).\n",
        "\n",
        "Design a simple recurrent neural network (RNN), taking the input word embeddings, and predicting a sentiment label for each sentence. To do that, you need to consider how to aggregate the word representations to represent a sentence.\n",
        "\n",
        "Use the validation set to gauge the performance of the model for each epoch during training. You are required to use accuracy  as the performance metric during validation and evaluation.\n",
        "\n",
        "Use the mini-batch strategy during training.  You may choose any preferred optimizer (e.g., SGD, Adagrad, Adam, RMSprop). Be careful when you choose your initial learning rate and mini-batch size. (You should use the validation set to determine the optimal configuration.) Train the model until the accuracy  score on the validation set is not increasing for a few epochs.\n",
        "\n",
        "Evaluate your trained model on the test dataset, observing the accuracy score."
      ]
    },
    {
      "cell_type": "code",
      "execution_count": 23,
      "metadata": {
        "colab": {
          "base_uri": "https://localhost:8080/"
        },
        "id": "UX1ygu0Fsmah",
        "outputId": "9935d46e-320b-48d5-fc94-f325067b94fb"
      },
      "outputs": [
        {
          "output_type": "stream",
          "name": "stdout",
          "text": [
            "Loading pretrained word embeddings\n"
          ]
        }
      ],
      "source": [
        "model = BiDeepRNN(vocab_size=len(w2v_vocab),\n",
        "            dim_input=dim_input,\n",
        "            dim_hidden=dim_hidden,\n",
        "            num_layers=3,\n",
        "            dim_output=2,\n",
        "            pretrained_embeddings=embeddings,\n",
        "            freeze_embeddings=True)"
      ]
    },
    {
      "cell_type": "code",
      "execution_count": 24,
      "metadata": {
        "id": "jkyhWtPrcZwo"
      },
      "outputs": [],
      "source": [
        "learning_rate = 1e-4\n",
        "num_epochs = 100\n",
        "metric_log_interval = 1\n",
        "num_stopping_rounds = 10\n",
        "loss_fn = nn.BCELoss()\n",
        "training_bs = 128"
      ]
    },
    {
      "cell_type": "code",
      "execution_count": 25,
      "metadata": {
        "id": "3UYLxUHAcZwo"
      },
      "outputs": [],
      "source": [
        "optimizer = torch.optim.Adam(model.parameters(),\n",
        "                             lr=learning_rate)"
      ]
    },
    {
      "cell_type": "code",
      "execution_count": 26,
      "metadata": {
        "id": "FnZJAjsIcZwo"
      },
      "outputs": [],
      "source": [
        "model.train()\n",
        "train_loss = 0\n",
        "data_iter = iter(train_loader)"
      ]
    },
    {
      "cell_type": "code",
      "execution_count": 29,
      "metadata": {
        "id": "asvBZ-IkcZwp"
      },
      "outputs": [],
      "source": [
        "class EarlyStopper:\n",
        "    def __init__(self, patience=50, min_delta=0, greater_is_better=False):\n",
        "        self.patience = patience\n",
        "        self.min_delta = min_delta\n",
        "        self.counter = 0\n",
        "        self.min_validation_loss = float('inf')\n",
        "\n",
        "    def early_stop(self, validation_loss):\n",
        "        if greater_is_better:\n",
        "            if validation_loss > self.min_validation_loss:\n",
        "                self.min_validation_loss = validation_loss\n",
        "                self.counter = 0\n",
        "            elif validation_loss < (self.min_validation_loss + self.min_delta):\n",
        "                self.counter += 1\n",
        "                if self.counter >= self.patience:\n",
        "                    return True\n",
        "        else:\n",
        "            if validation_loss < self.min_validation_loss:\n",
        "                self.min_validation_loss = validation_loss\n",
        "                self.counter = 0\n",
        "            elif validation_loss > (self.min_validation_loss + self.min_delta):\n",
        "                self.counter += 1\n",
        "                if self.counter >= self.patience:\n",
        "                    return True\n",
        "        return False"
      ]
    },
    {
      "cell_type": "code",
      "execution_count": null,
      "metadata": {
        "colab": {
          "base_uri": "https://localhost:8080/",
          "height": 137,
          "referenced_widgets": [
            "5ad11a2ee851438aac5d015bb469034a",
            "35045883e0004301b1260b344a31a53a",
            "c85d57d1156d48d4b5ef2507f4085a37",
            "7279bbc99bed4d9eb06fdc7b8299bb55",
            "08f7c669ed664796bbc6a97da701b7c9",
            "09f5a1a3bada4ab1ad9956d7f6d498b6",
            "181ccfb23dc747a5a381530733aba1ab",
            "af697ace330744db8c20339d6286fd90",
            "b82ad27a8ff74dd0913341c38a2a549f",
            "2e78adc7a2a24897b8178676ac8e973b",
            "2db23a3741e343d59c4e7f792851e66b",
            "d6a287d949e941fbb44968cc77f59cb1",
            "c9b7d88b0af24b41a4ef127db0869321",
            "0d612b1e0d0748b3818702043ac480b2",
            "b0fdb270e2b342bc9d864ba6a43a3462",
            "d9f06ea1c2584c81bc4500b9ed26f95d",
            "154955bda1d14faebef62294d23b6ddf",
            "add91451e601418eb111795c3b8c48f3",
            "b17c704e1e5441c69b94bae6ba3b229a",
            "cae4863d85ad4bf0a4a7d772e2e9efec",
            "60dc501a3abe4a629bedeadb38fa184f",
            "4eb8bfcdc76e4f13ad1708af723a1076"
          ]
        },
        "id": "ZiAK75s7cZwp",
        "outputId": "1a339ca7-1126-4c37-c936-72c208596825"
      },
      "outputs": [
        {
          "output_type": "display_data",
          "data": {
            "text/plain": [
              "  0%|          | 0/100 [00:00<?, ?it/s]"
            ],
            "application/vnd.jupyter.widget-view+json": {
              "version_major": 2,
              "version_minor": 0,
              "model_id": "5ad11a2ee851438aac5d015bb469034a"
            }
          },
          "metadata": {}
        },
        {
          "output_type": "display_data",
          "data": {
            "text/plain": [
              "0it [00:00, ?it/s]"
            ],
            "application/vnd.jupyter.widget-view+json": {
              "version_major": 2,
              "version_minor": 0,
              "model_id": "d6a287d949e941fbb44968cc77f59cb1"
            }
          },
          "metadata": {}
        },
        {
          "output_type": "stream",
          "name": "stderr",
          "text": [
            "<ipython-input-30-be1314882549>:16: UserWarning: To copy construct from a tensor, it is recommended to use sourceTensor.clone().detach() or sourceTensor.clone().detach().requires_grad_(True), rather than torch.tensor(sourceTensor).\n",
            "  one_hot_label = torch.tensor(nn.functional.one_hot(label), dtype=torch.float).to(device)\n"
          ]
        }
      ],
      "source": [
        "early_stopper = EarlyStopper(patience=num_stopping_rounds,\n",
        "                             min_delta=0,\n",
        "                             greater_is_better=True)\n",
        "train_loss = []\n",
        "val_loss = []\n",
        "metrics = []\n",
        "for step_id in tqdm(range(num_epochs)):\n",
        "\n",
        "    epoch_loss = []\n",
        "    for i, (input, length, label) in tqdm(enumerate(train_loader)):\n",
        "\n",
        "        input, length, label = input.to(device), length.to(device), label.to(device)\n",
        "        optimizer.zero_grad()\n",
        "        output = model(input)\n",
        "        output = output[range(input.size()[0]), length - 1]\n",
        "        one_hot_label = torch.tensor(nn.functional.one_hot(label), dtype=torch.float).to(device)\n",
        "        loss = loss_fn(output, one_hot_label)\n",
        "        loss.backward()\n",
        "        optimizer.step()\n",
        "\n",
        "        epoch_loss.append(loss.item() / training_bs)\n",
        "\n",
        "        output_label = torch.argmax(output, axis=1)\n",
        "\n",
        "    train_loss.append(sum(epoch_loss) / len(epoch_loss))\n",
        "\n",
        "    epoch_loss = []\n",
        "    epoch_acc = []\n",
        "    with torch.no_grad():\n",
        "        for i, (input, length, label) in enumerate(val_loader):\n",
        "            input, length, label = input.to(device), length.to(device), label.to(device)\n",
        "\n",
        "            output = model(input)\n",
        "            output = output[range(input.size()[0]), length - 1]\n",
        "            one_hot_label = torch.tensor(nn.functional.one_hot(label), dtype=torch.float32).to(device)\n",
        "\n",
        "            loss = loss_fn(output, one_hot_label)\n",
        "            epoch_loss.append(loss.item() / training_bs)\n",
        "\n",
        "            output_label = torch.argmax(output, axis=1)\n",
        "            epoch_acc.append((output_label == label).sum() / len(label))\n",
        "\n",
        "    epoch_loss_ = sum(epoch_loss) / len(epoch_loss)\n",
        "    val_loss.append(epoch_loss_)\n",
        "    metrics.append(sum(epoch_acc) / len(epoch_acc))\n",
        "    print(\n",
        "            f\"\"\"Step {step_id + 1}:\n",
        "                Train Loss: {train_loss[-1]},\n",
        "                Val_loss: {val_loss[-1]},\n",
        "                Accuracy:{metrics[-1]}\"\"\"\n",
        "    )\n",
        "    if early_stopper.early_stop(metrics[-1]):\n",
        "        print('Early Stopping model training')\n",
        "        break"
      ]
    },
    {
      "cell_type": "code",
      "execution_count": null,
      "metadata": {
        "id": "VkjOfif6pxoz"
      },
      "outputs": [],
      "source": [
        "import matplotlib.pyplot as plt"
      ]
    },
    {
      "cell_type": "code",
      "execution_count": null,
      "metadata": {
        "id": "fuBQNqCpq3Ze"
      },
      "outputs": [],
      "source": [
        "plt.plot(train_loss)\n",
        "plt.plot(val_loss)\n",
        "plt.show()"
      ]
    },
    {
      "cell_type": "code",
      "execution_count": null,
      "metadata": {
        "id": "aX3BXEo0q4PT"
      },
      "outputs": [],
      "source": [
        "plt.plot(metrics)"
      ]
    },
    {
      "cell_type": "markdown",
      "metadata": {
        "id": "jxrqKkCr5j53"
      },
      "source": [
        "# Evaluation"
      ]
    },
    {
      "cell_type": "code",
      "execution_count": null,
      "metadata": {
        "id": "EUutUKtN5h-_"
      },
      "outputs": [],
      "source": [
        "test_acc = []\n",
        "\n",
        "for i, (input, length, label) in enumerate(test_loader):\n",
        "    input, length, label = input.to(device), length.to(device), label.to(device)\n",
        "    output = model(input)\n",
        "    output = output[range(input.size()[0]), length - 1]\n",
        "    one_hot_label = torch.tensor(nn.functional.one_hot(label), dtype=torch.float32).to(device)\n",
        "\n",
        "    output_label = torch.argmax(output, axis=1)\n",
        "    test_acc.append((output_label == label).sum())"
      ]
    },
    {
      "cell_type": "code",
      "execution_count": null,
      "metadata": {
        "id": "LZbfr3TZq8LE"
      },
      "outputs": [],
      "source": [
        "sum(test_acc) / len(test_dataset)"
      ]
    },
    {
      "cell_type": "code",
      "execution_count": null,
      "metadata": {
        "id": "SGfSvpxE6ZhP"
      },
      "outputs": [],
      "source": []
    }
  ],
  "metadata": {
    "colab": {
      "provenance": []
    },
    "kernelspec": {
      "display_name": "Python 3",
      "name": "python3"
    },
    "language_info": {
      "codemirror_mode": {
        "name": "ipython",
        "version": 3
      },
      "file_extension": ".py",
      "mimetype": "text/x-python",
      "name": "python",
      "nbconvert_exporter": "python",
      "pygments_lexer": "ipython3",
      "version": "3.10.14"
    },
    "widgets": {
      "application/vnd.jupyter.widget-state+json": {
        "5ad11a2ee851438aac5d015bb469034a": {
          "model_module": "@jupyter-widgets/controls",
          "model_name": "HBoxModel",
          "model_module_version": "1.5.0",
          "state": {
            "_dom_classes": [],
            "_model_module": "@jupyter-widgets/controls",
            "_model_module_version": "1.5.0",
            "_model_name": "HBoxModel",
            "_view_count": null,
            "_view_module": "@jupyter-widgets/controls",
            "_view_module_version": "1.5.0",
            "_view_name": "HBoxView",
            "box_style": "",
            "children": [
              "IPY_MODEL_35045883e0004301b1260b344a31a53a",
              "IPY_MODEL_c85d57d1156d48d4b5ef2507f4085a37",
              "IPY_MODEL_7279bbc99bed4d9eb06fdc7b8299bb55"
            ],
            "layout": "IPY_MODEL_08f7c669ed664796bbc6a97da701b7c9"
          }
        },
        "35045883e0004301b1260b344a31a53a": {
          "model_module": "@jupyter-widgets/controls",
          "model_name": "HTMLModel",
          "model_module_version": "1.5.0",
          "state": {
            "_dom_classes": [],
            "_model_module": "@jupyter-widgets/controls",
            "_model_module_version": "1.5.0",
            "_model_name": "HTMLModel",
            "_view_count": null,
            "_view_module": "@jupyter-widgets/controls",
            "_view_module_version": "1.5.0",
            "_view_name": "HTMLView",
            "description": "",
            "description_tooltip": null,
            "layout": "IPY_MODEL_09f5a1a3bada4ab1ad9956d7f6d498b6",
            "placeholder": "​",
            "style": "IPY_MODEL_181ccfb23dc747a5a381530733aba1ab",
            "value": "  0%"
          }
        },
        "c85d57d1156d48d4b5ef2507f4085a37": {
          "model_module": "@jupyter-widgets/controls",
          "model_name": "FloatProgressModel",
          "model_module_version": "1.5.0",
          "state": {
            "_dom_classes": [],
            "_model_module": "@jupyter-widgets/controls",
            "_model_module_version": "1.5.0",
            "_model_name": "FloatProgressModel",
            "_view_count": null,
            "_view_module": "@jupyter-widgets/controls",
            "_view_module_version": "1.5.0",
            "_view_name": "ProgressView",
            "bar_style": "",
            "description": "",
            "description_tooltip": null,
            "layout": "IPY_MODEL_af697ace330744db8c20339d6286fd90",
            "max": 100,
            "min": 0,
            "orientation": "horizontal",
            "style": "IPY_MODEL_b82ad27a8ff74dd0913341c38a2a549f",
            "value": 0
          }
        },
        "7279bbc99bed4d9eb06fdc7b8299bb55": {
          "model_module": "@jupyter-widgets/controls",
          "model_name": "HTMLModel",
          "model_module_version": "1.5.0",
          "state": {
            "_dom_classes": [],
            "_model_module": "@jupyter-widgets/controls",
            "_model_module_version": "1.5.0",
            "_model_name": "HTMLModel",
            "_view_count": null,
            "_view_module": "@jupyter-widgets/controls",
            "_view_module_version": "1.5.0",
            "_view_name": "HTMLView",
            "description": "",
            "description_tooltip": null,
            "layout": "IPY_MODEL_2e78adc7a2a24897b8178676ac8e973b",
            "placeholder": "​",
            "style": "IPY_MODEL_2db23a3741e343d59c4e7f792851e66b",
            "value": " 0/100 [00:00&lt;?, ?it/s]"
          }
        },
        "08f7c669ed664796bbc6a97da701b7c9": {
          "model_module": "@jupyter-widgets/base",
          "model_name": "LayoutModel",
          "model_module_version": "1.2.0",
          "state": {
            "_model_module": "@jupyter-widgets/base",
            "_model_module_version": "1.2.0",
            "_model_name": "LayoutModel",
            "_view_count": null,
            "_view_module": "@jupyter-widgets/base",
            "_view_module_version": "1.2.0",
            "_view_name": "LayoutView",
            "align_content": null,
            "align_items": null,
            "align_self": null,
            "border": null,
            "bottom": null,
            "display": null,
            "flex": null,
            "flex_flow": null,
            "grid_area": null,
            "grid_auto_columns": null,
            "grid_auto_flow": null,
            "grid_auto_rows": null,
            "grid_column": null,
            "grid_gap": null,
            "grid_row": null,
            "grid_template_areas": null,
            "grid_template_columns": null,
            "grid_template_rows": null,
            "height": null,
            "justify_content": null,
            "justify_items": null,
            "left": null,
            "margin": null,
            "max_height": null,
            "max_width": null,
            "min_height": null,
            "min_width": null,
            "object_fit": null,
            "object_position": null,
            "order": null,
            "overflow": null,
            "overflow_x": null,
            "overflow_y": null,
            "padding": null,
            "right": null,
            "top": null,
            "visibility": null,
            "width": null
          }
        },
        "09f5a1a3bada4ab1ad9956d7f6d498b6": {
          "model_module": "@jupyter-widgets/base",
          "model_name": "LayoutModel",
          "model_module_version": "1.2.0",
          "state": {
            "_model_module": "@jupyter-widgets/base",
            "_model_module_version": "1.2.0",
            "_model_name": "LayoutModel",
            "_view_count": null,
            "_view_module": "@jupyter-widgets/base",
            "_view_module_version": "1.2.0",
            "_view_name": "LayoutView",
            "align_content": null,
            "align_items": null,
            "align_self": null,
            "border": null,
            "bottom": null,
            "display": null,
            "flex": null,
            "flex_flow": null,
            "grid_area": null,
            "grid_auto_columns": null,
            "grid_auto_flow": null,
            "grid_auto_rows": null,
            "grid_column": null,
            "grid_gap": null,
            "grid_row": null,
            "grid_template_areas": null,
            "grid_template_columns": null,
            "grid_template_rows": null,
            "height": null,
            "justify_content": null,
            "justify_items": null,
            "left": null,
            "margin": null,
            "max_height": null,
            "max_width": null,
            "min_height": null,
            "min_width": null,
            "object_fit": null,
            "object_position": null,
            "order": null,
            "overflow": null,
            "overflow_x": null,
            "overflow_y": null,
            "padding": null,
            "right": null,
            "top": null,
            "visibility": null,
            "width": null
          }
        },
        "181ccfb23dc747a5a381530733aba1ab": {
          "model_module": "@jupyter-widgets/controls",
          "model_name": "DescriptionStyleModel",
          "model_module_version": "1.5.0",
          "state": {
            "_model_module": "@jupyter-widgets/controls",
            "_model_module_version": "1.5.0",
            "_model_name": "DescriptionStyleModel",
            "_view_count": null,
            "_view_module": "@jupyter-widgets/base",
            "_view_module_version": "1.2.0",
            "_view_name": "StyleView",
            "description_width": ""
          }
        },
        "af697ace330744db8c20339d6286fd90": {
          "model_module": "@jupyter-widgets/base",
          "model_name": "LayoutModel",
          "model_module_version": "1.2.0",
          "state": {
            "_model_module": "@jupyter-widgets/base",
            "_model_module_version": "1.2.0",
            "_model_name": "LayoutModel",
            "_view_count": null,
            "_view_module": "@jupyter-widgets/base",
            "_view_module_version": "1.2.0",
            "_view_name": "LayoutView",
            "align_content": null,
            "align_items": null,
            "align_self": null,
            "border": null,
            "bottom": null,
            "display": null,
            "flex": null,
            "flex_flow": null,
            "grid_area": null,
            "grid_auto_columns": null,
            "grid_auto_flow": null,
            "grid_auto_rows": null,
            "grid_column": null,
            "grid_gap": null,
            "grid_row": null,
            "grid_template_areas": null,
            "grid_template_columns": null,
            "grid_template_rows": null,
            "height": null,
            "justify_content": null,
            "justify_items": null,
            "left": null,
            "margin": null,
            "max_height": null,
            "max_width": null,
            "min_height": null,
            "min_width": null,
            "object_fit": null,
            "object_position": null,
            "order": null,
            "overflow": null,
            "overflow_x": null,
            "overflow_y": null,
            "padding": null,
            "right": null,
            "top": null,
            "visibility": null,
            "width": null
          }
        },
        "b82ad27a8ff74dd0913341c38a2a549f": {
          "model_module": "@jupyter-widgets/controls",
          "model_name": "ProgressStyleModel",
          "model_module_version": "1.5.0",
          "state": {
            "_model_module": "@jupyter-widgets/controls",
            "_model_module_version": "1.5.0",
            "_model_name": "ProgressStyleModel",
            "_view_count": null,
            "_view_module": "@jupyter-widgets/base",
            "_view_module_version": "1.2.0",
            "_view_name": "StyleView",
            "bar_color": null,
            "description_width": ""
          }
        },
        "2e78adc7a2a24897b8178676ac8e973b": {
          "model_module": "@jupyter-widgets/base",
          "model_name": "LayoutModel",
          "model_module_version": "1.2.0",
          "state": {
            "_model_module": "@jupyter-widgets/base",
            "_model_module_version": "1.2.0",
            "_model_name": "LayoutModel",
            "_view_count": null,
            "_view_module": "@jupyter-widgets/base",
            "_view_module_version": "1.2.0",
            "_view_name": "LayoutView",
            "align_content": null,
            "align_items": null,
            "align_self": null,
            "border": null,
            "bottom": null,
            "display": null,
            "flex": null,
            "flex_flow": null,
            "grid_area": null,
            "grid_auto_columns": null,
            "grid_auto_flow": null,
            "grid_auto_rows": null,
            "grid_column": null,
            "grid_gap": null,
            "grid_row": null,
            "grid_template_areas": null,
            "grid_template_columns": null,
            "grid_template_rows": null,
            "height": null,
            "justify_content": null,
            "justify_items": null,
            "left": null,
            "margin": null,
            "max_height": null,
            "max_width": null,
            "min_height": null,
            "min_width": null,
            "object_fit": null,
            "object_position": null,
            "order": null,
            "overflow": null,
            "overflow_x": null,
            "overflow_y": null,
            "padding": null,
            "right": null,
            "top": null,
            "visibility": null,
            "width": null
          }
        },
        "2db23a3741e343d59c4e7f792851e66b": {
          "model_module": "@jupyter-widgets/controls",
          "model_name": "DescriptionStyleModel",
          "model_module_version": "1.5.0",
          "state": {
            "_model_module": "@jupyter-widgets/controls",
            "_model_module_version": "1.5.0",
            "_model_name": "DescriptionStyleModel",
            "_view_count": null,
            "_view_module": "@jupyter-widgets/base",
            "_view_module_version": "1.2.0",
            "_view_name": "StyleView",
            "description_width": ""
          }
        },
        "d6a287d949e941fbb44968cc77f59cb1": {
          "model_module": "@jupyter-widgets/controls",
          "model_name": "HBoxModel",
          "model_module_version": "1.5.0",
          "state": {
            "_dom_classes": [],
            "_model_module": "@jupyter-widgets/controls",
            "_model_module_version": "1.5.0",
            "_model_name": "HBoxModel",
            "_view_count": null,
            "_view_module": "@jupyter-widgets/controls",
            "_view_module_version": "1.5.0",
            "_view_name": "HBoxView",
            "box_style": "",
            "children": [
              "IPY_MODEL_c9b7d88b0af24b41a4ef127db0869321",
              "IPY_MODEL_0d612b1e0d0748b3818702043ac480b2",
              "IPY_MODEL_b0fdb270e2b342bc9d864ba6a43a3462"
            ],
            "layout": "IPY_MODEL_d9f06ea1c2584c81bc4500b9ed26f95d"
          }
        },
        "c9b7d88b0af24b41a4ef127db0869321": {
          "model_module": "@jupyter-widgets/controls",
          "model_name": "HTMLModel",
          "model_module_version": "1.5.0",
          "state": {
            "_dom_classes": [],
            "_model_module": "@jupyter-widgets/controls",
            "_model_module_version": "1.5.0",
            "_model_name": "HTMLModel",
            "_view_count": null,
            "_view_module": "@jupyter-widgets/controls",
            "_view_module_version": "1.5.0",
            "_view_name": "HTMLView",
            "description": "",
            "description_tooltip": null,
            "layout": "IPY_MODEL_154955bda1d14faebef62294d23b6ddf",
            "placeholder": "​",
            "style": "IPY_MODEL_add91451e601418eb111795c3b8c48f3",
            "value": ""
          }
        },
        "0d612b1e0d0748b3818702043ac480b2": {
          "model_module": "@jupyter-widgets/controls",
          "model_name": "FloatProgressModel",
          "model_module_version": "1.5.0",
          "state": {
            "_dom_classes": [],
            "_model_module": "@jupyter-widgets/controls",
            "_model_module_version": "1.5.0",
            "_model_name": "FloatProgressModel",
            "_view_count": null,
            "_view_module": "@jupyter-widgets/controls",
            "_view_module_version": "1.5.0",
            "_view_name": "ProgressView",
            "bar_style": "info",
            "description": "",
            "description_tooltip": null,
            "layout": "IPY_MODEL_b17c704e1e5441c69b94bae6ba3b229a",
            "max": 1,
            "min": 0,
            "orientation": "horizontal",
            "style": "IPY_MODEL_cae4863d85ad4bf0a4a7d772e2e9efec",
            "value": 1
          }
        },
        "b0fdb270e2b342bc9d864ba6a43a3462": {
          "model_module": "@jupyter-widgets/controls",
          "model_name": "HTMLModel",
          "model_module_version": "1.5.0",
          "state": {
            "_dom_classes": [],
            "_model_module": "@jupyter-widgets/controls",
            "_model_module_version": "1.5.0",
            "_model_name": "HTMLModel",
            "_view_count": null,
            "_view_module": "@jupyter-widgets/controls",
            "_view_module_version": "1.5.0",
            "_view_name": "HTMLView",
            "description": "",
            "description_tooltip": null,
            "layout": "IPY_MODEL_60dc501a3abe4a629bedeadb38fa184f",
            "placeholder": "​",
            "style": "IPY_MODEL_4eb8bfcdc76e4f13ad1708af723a1076",
            "value": " 111/? [01:25&lt;00:00,  1.43it/s]"
          }
        },
        "d9f06ea1c2584c81bc4500b9ed26f95d": {
          "model_module": "@jupyter-widgets/base",
          "model_name": "LayoutModel",
          "model_module_version": "1.2.0",
          "state": {
            "_model_module": "@jupyter-widgets/base",
            "_model_module_version": "1.2.0",
            "_model_name": "LayoutModel",
            "_view_count": null,
            "_view_module": "@jupyter-widgets/base",
            "_view_module_version": "1.2.0",
            "_view_name": "LayoutView",
            "align_content": null,
            "align_items": null,
            "align_self": null,
            "border": null,
            "bottom": null,
            "display": null,
            "flex": null,
            "flex_flow": null,
            "grid_area": null,
            "grid_auto_columns": null,
            "grid_auto_flow": null,
            "grid_auto_rows": null,
            "grid_column": null,
            "grid_gap": null,
            "grid_row": null,
            "grid_template_areas": null,
            "grid_template_columns": null,
            "grid_template_rows": null,
            "height": null,
            "justify_content": null,
            "justify_items": null,
            "left": null,
            "margin": null,
            "max_height": null,
            "max_width": null,
            "min_height": null,
            "min_width": null,
            "object_fit": null,
            "object_position": null,
            "order": null,
            "overflow": null,
            "overflow_x": null,
            "overflow_y": null,
            "padding": null,
            "right": null,
            "top": null,
            "visibility": null,
            "width": null
          }
        },
        "154955bda1d14faebef62294d23b6ddf": {
          "model_module": "@jupyter-widgets/base",
          "model_name": "LayoutModel",
          "model_module_version": "1.2.0",
          "state": {
            "_model_module": "@jupyter-widgets/base",
            "_model_module_version": "1.2.0",
            "_model_name": "LayoutModel",
            "_view_count": null,
            "_view_module": "@jupyter-widgets/base",
            "_view_module_version": "1.2.0",
            "_view_name": "LayoutView",
            "align_content": null,
            "align_items": null,
            "align_self": null,
            "border": null,
            "bottom": null,
            "display": null,
            "flex": null,
            "flex_flow": null,
            "grid_area": null,
            "grid_auto_columns": null,
            "grid_auto_flow": null,
            "grid_auto_rows": null,
            "grid_column": null,
            "grid_gap": null,
            "grid_row": null,
            "grid_template_areas": null,
            "grid_template_columns": null,
            "grid_template_rows": null,
            "height": null,
            "justify_content": null,
            "justify_items": null,
            "left": null,
            "margin": null,
            "max_height": null,
            "max_width": null,
            "min_height": null,
            "min_width": null,
            "object_fit": null,
            "object_position": null,
            "order": null,
            "overflow": null,
            "overflow_x": null,
            "overflow_y": null,
            "padding": null,
            "right": null,
            "top": null,
            "visibility": null,
            "width": null
          }
        },
        "add91451e601418eb111795c3b8c48f3": {
          "model_module": "@jupyter-widgets/controls",
          "model_name": "DescriptionStyleModel",
          "model_module_version": "1.5.0",
          "state": {
            "_model_module": "@jupyter-widgets/controls",
            "_model_module_version": "1.5.0",
            "_model_name": "DescriptionStyleModel",
            "_view_count": null,
            "_view_module": "@jupyter-widgets/base",
            "_view_module_version": "1.2.0",
            "_view_name": "StyleView",
            "description_width": ""
          }
        },
        "b17c704e1e5441c69b94bae6ba3b229a": {
          "model_module": "@jupyter-widgets/base",
          "model_name": "LayoutModel",
          "model_module_version": "1.2.0",
          "state": {
            "_model_module": "@jupyter-widgets/base",
            "_model_module_version": "1.2.0",
            "_model_name": "LayoutModel",
            "_view_count": null,
            "_view_module": "@jupyter-widgets/base",
            "_view_module_version": "1.2.0",
            "_view_name": "LayoutView",
            "align_content": null,
            "align_items": null,
            "align_self": null,
            "border": null,
            "bottom": null,
            "display": null,
            "flex": null,
            "flex_flow": null,
            "grid_area": null,
            "grid_auto_columns": null,
            "grid_auto_flow": null,
            "grid_auto_rows": null,
            "grid_column": null,
            "grid_gap": null,
            "grid_row": null,
            "grid_template_areas": null,
            "grid_template_columns": null,
            "grid_template_rows": null,
            "height": null,
            "justify_content": null,
            "justify_items": null,
            "left": null,
            "margin": null,
            "max_height": null,
            "max_width": null,
            "min_height": null,
            "min_width": null,
            "object_fit": null,
            "object_position": null,
            "order": null,
            "overflow": null,
            "overflow_x": null,
            "overflow_y": null,
            "padding": null,
            "right": null,
            "top": null,
            "visibility": null,
            "width": "20px"
          }
        },
        "cae4863d85ad4bf0a4a7d772e2e9efec": {
          "model_module": "@jupyter-widgets/controls",
          "model_name": "ProgressStyleModel",
          "model_module_version": "1.5.0",
          "state": {
            "_model_module": "@jupyter-widgets/controls",
            "_model_module_version": "1.5.0",
            "_model_name": "ProgressStyleModel",
            "_view_count": null,
            "_view_module": "@jupyter-widgets/base",
            "_view_module_version": "1.2.0",
            "_view_name": "StyleView",
            "bar_color": null,
            "description_width": ""
          }
        },
        "60dc501a3abe4a629bedeadb38fa184f": {
          "model_module": "@jupyter-widgets/base",
          "model_name": "LayoutModel",
          "model_module_version": "1.2.0",
          "state": {
            "_model_module": "@jupyter-widgets/base",
            "_model_module_version": "1.2.0",
            "_model_name": "LayoutModel",
            "_view_count": null,
            "_view_module": "@jupyter-widgets/base",
            "_view_module_version": "1.2.0",
            "_view_name": "LayoutView",
            "align_content": null,
            "align_items": null,
            "align_self": null,
            "border": null,
            "bottom": null,
            "display": null,
            "flex": null,
            "flex_flow": null,
            "grid_area": null,
            "grid_auto_columns": null,
            "grid_auto_flow": null,
            "grid_auto_rows": null,
            "grid_column": null,
            "grid_gap": null,
            "grid_row": null,
            "grid_template_areas": null,
            "grid_template_columns": null,
            "grid_template_rows": null,
            "height": null,
            "justify_content": null,
            "justify_items": null,
            "left": null,
            "margin": null,
            "max_height": null,
            "max_width": null,
            "min_height": null,
            "min_width": null,
            "object_fit": null,
            "object_position": null,
            "order": null,
            "overflow": null,
            "overflow_x": null,
            "overflow_y": null,
            "padding": null,
            "right": null,
            "top": null,
            "visibility": null,
            "width": null
          }
        },
        "4eb8bfcdc76e4f13ad1708af723a1076": {
          "model_module": "@jupyter-widgets/controls",
          "model_name": "DescriptionStyleModel",
          "model_module_version": "1.5.0",
          "state": {
            "_model_module": "@jupyter-widgets/controls",
            "_model_module_version": "1.5.0",
            "_model_name": "DescriptionStyleModel",
            "_view_count": null,
            "_view_module": "@jupyter-widgets/base",
            "_view_module_version": "1.2.0",
            "_view_name": "StyleView",
            "description_width": ""
          }
        }
      }
    }
  },
  "nbformat": 4,
  "nbformat_minor": 0
}